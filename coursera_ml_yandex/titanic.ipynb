{
 "metadata": {
  "language_info": {
   "codemirror_mode": {
    "name": "ipython",
    "version": 3
   },
   "file_extension": ".py",
   "mimetype": "text/x-python",
   "name": "python",
   "nbconvert_exporter": "python",
   "pygments_lexer": "ipython3",
   "version": "3.9.0-final"
  },
  "orig_nbformat": 2,
  "kernelspec": {
   "name": "python3",
   "display_name": "Python 3"
  }
 },
 "nbformat": 4,
 "nbformat_minor": 2,
 "cells": [
  {
   "cell_type": "code",
   "execution_count": 30,
   "metadata": {},
   "outputs": [
    {
     "output_type": "stream",
     "name": "stdout",
     "text": [
      "male      577\nfemale    314\nName: Sex, dtype: int64\n"
     ]
    }
   ],
   "source": [
    "import pandas\n",
    "\n",
    "data = pandas.read_csv('titanic.csv', index_col='PassengerId')\n",
    "print(data['Sex'].value_counts())\n",
    "\n",
    "# 577 314"
   ]
  },
  {
   "cell_type": "code",
   "execution_count": 31,
   "metadata": {},
   "outputs": [
    {
     "output_type": "stream",
     "name": "stdout",
     "text": [
      "PassengerId\n1      0\n2      1\n3      1\n4      1\n5      0\n      ..\n887    0\n888    1\n889    0\n890    1\n891    0\nName: Survived, Length: 891, dtype: int64\n"
     ]
    }
   ],
   "source": [
    "print(data[\"Survived\"])"
   ]
  },
  {
   "cell_type": "code",
   "execution_count": 45,
   "metadata": {},
   "outputs": [
    {
     "output_type": "stream",
     "name": "stdout",
     "text": [
      "549 342\n61.62\n38.38\n"
     ]
    }
   ],
   "source": [
    "die, survi = data['Survived'].value_counts()\n",
    "print(die, survi)\n",
    "total = 891\n",
    "\n",
    "# 891 - 100%\n",
    "# 549 - x\n",
    "print(round((die * 100 / total), 2))\n",
    "print(round((survi * 100 / total), 2))"
   ]
  },
  {
   "cell_type": "code",
   "execution_count": 78,
   "metadata": {},
   "outputs": [
    {
     "output_type": "stream",
     "name": "stdout",
     "text": [
      "24.24\n"
     ]
    }
   ],
   "source": [
    "data['Pclass'].value_counts()\n",
    "first = 216\n",
    "print(round((first * 100 / total), 2))\n"
   ]
  },
  {
   "cell_type": "code",
   "execution_count": 89,
   "metadata": {},
   "outputs": [
    {
     "output_type": "stream",
     "name": "stdout",
     "text": [
      "29.7 28.0\n"
     ]
    }
   ],
   "source": [
    "# 4\n",
    "average_age = round(data['Age'].mean(), 2)\n",
    "median_age = data['Age'].median()\n",
    "print(average_age, median_age)"
   ]
  },
  {
   "cell_type": "code",
   "execution_count": 100,
   "metadata": {},
   "outputs": [
    {
     "output_type": "execute_result",
     "data": {
      "text/plain": [
       "0.41"
      ]
     },
     "metadata": {},
     "execution_count": 100
    }
   ],
   "source": [
    "# 5\n",
    "round(data[\"SibSp\"].corr(data[\"Parch\"]), 2)\n",
    "\n",
    "#data[['SibSp', 'Parch']].corr()"
   ]
  },
  {
   "cell_type": "code",
   "execution_count": 224,
   "metadata": {},
   "outputs": [
    {
     "output_type": "stream",
     "name": "stdout",
     "text": [
      "{'Anna': 15, 'Mary': 14, 'Elizabeth': 11, 'Margaret': 10, 'Alice': 6, 'Bertha': 5, 'Maria': 5, 'Helen': 5, 'Florence': 4, 'Ellen': 4, 'Marie': 4, 'Augusta': 4, 'Emily': 4, 'Ada': 4, 'Annie': 4, 'Catherine': 4, 'Elisabeth': 3, 'Lillian': 3, 'Edith': 3, 'Katherine': 3, 'Madeleine': 3, 'Amelia': 3, 'Hanora': 3, 'Kate': 3, 'Marion': 3, 'Ida': 3, 'Jane': 3, 'Lily': 2, 'Adele': 2, 'Johanna': 2, 'Dorothy': 2, 'Bridget': 2, 'Constance': 2, 'Mabel': 2, 'Susan': 2, 'Mathilde': 2, 'Rosa': 2, 'Marjorie': 2, 'Helene': 2, 'Agnes': 2, 'Clara': 2, 'Elsie': 2, 'Rosalie': 2, 'Jessie': 2, 'Marija': 2, 'Lucile': 2, 'Hedwig': 2, 'Lucy': 2, 'Ethel': 2, 'Emma': 2, 'Charlotte': 2, 'Martha': 2, 'Amy': 2, 'Laina': 1, 'Marguerite': 1, 'Hulda': 1, 'Emelia': 1, 'Fatima': 1, 'Torborg': 1, 'Selma': 1, 'Jamila': 1, 'Simonne': 1, 'Josefine': 1, 'Myna': 1, 'Amelie': 1, 'Erna': 1, 'Brigdet': 1, 'Matilda': 1, 'Hileni': 1, 'Katriina': 1, 'Malake': 1, 'Ellis': 1, 'Grace': 1, 'Sultana': 1, 'Elin': 1, 'Robina': 1, 'Eleanor': 1, 'Ann': 1, 'Luise': 1, 'Carla': 1, 'Elise': 1, 'Henriette': 1, 'Telma': 1, 'Clear': 1, 'Eliina': 1, 'Albina': 1, 'Irene': 1, 'Thamine': 1, 'Agda': 1, 'Elna': 1, 'Helena': 1, 'Hanne': 1, 'Gertrude': 1, 'Gladys': 1, 'Lutie': 1, 'Delia': 1, 'Kornelia': 1, 'Aloisia': 1, 'Nora': 1, 'Laura': 1, 'Helmina': 1, 'Miriam': 1, 'Margaretta': 1, 'Hilda': 1, 'Sylvia': 1, 'Jean': 1, 'Mantoura': 1, 'Leontine': 1, 'Stina': 1, 'Leila': 1, 'Aurora': 1, 'Elina': 1, 'Mari': 1, 'Daisy': 1, 'Lulu': 1, 'Lyyli': 1, 'Catharina': 1, 'Doolina': 1, 'Esther': 1, 'Encarnacion': 1, 'Hildur': 1, 'Jeannie': 1, 'Bessie': 1, 'Kristina': 1, 'Roberta': 1, 'Anne': 1, 'Phyllis': 1, 'Eva': 1, 'Harriet': 1, 'Ingeborg': 1, 'Sigrid': 1, 'Velin': 1, 'Lucille': 1, 'Tillie': 1, '(Marion': 1, 'Alma': 1, 'Julie': 1, 'Marian': 1, 'Ruth': 1, 'Juliette': 1, 'Alfrida': 1, 'Cordelia': 1, 'Gretchen': 1, 'Margit': 1, 'Eugenie': 1, 'Juliet': 1, 'Katie': 1, 'Georgette': 1, 'Manca': 1, 'Saiide': 1, 'Berthe': 1, 'Caroline': 1, 'Edwina': 1, 'Margareth': 1, 'Pieta': 1, 'Joan': 1, 'Eliza': 1, 'Virginia': 1, 'Banoura': 1, 'Vera': 1, 'Stella': 1, 'Farnham': 1, 'Mara': 1, 'Ebba': 1, 'Wendla': 1, 'Beila': 1, 'Selini': 1, 'Sara': 1, 'Edwiga': 1, 'Nourelain': 1, 'Lilian': 1, 'Leah': 1, 'Latifa': 1, 'Karolina': 1, 'Asuncion': 1, 'Sallie': 1, 'Hannah': 1, 'Imanita': 1, 'Gerda': 1}\n"
     ]
    }
   ],
   "source": [
    "# 6\n",
    "import re\n",
    "first_name_r = r\"\\(([a-zA-z]+)\"\n",
    "brackets_re = r\"\\((.*?)\\)\"\n",
    "first_names = []\n",
    "i = 0\n",
    "female_names = data[\"Name\"][data['Sex'] == \"female\"]\n",
    "for name in female_names:\n",
    "    result = re.search(brackets_re, name)\n",
    "    if result and \"Miss\" not in name and \"Mlle\" not in name:\n",
    "        name = result.group(1).split(\" \")\n",
    "        first_names.append(name[0])\n",
    "    else:\n",
    "        name = name.split(\". \")[1]\n",
    "        first_names.append(name.split(\" \")[0])\n",
    "\n",
    "\n",
    "from collections import Counter\n",
    "a = Counter(first_names).most_common()\n",
    "\n",
    "print(a)"
   ]
  },
  {
   "cell_type": "code",
   "execution_count": null,
   "metadata": {},
   "outputs": [],
   "source": []
  }
 ]
}