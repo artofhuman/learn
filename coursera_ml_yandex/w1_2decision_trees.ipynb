{
 "metadata": {
  "language_info": {
   "codemirror_mode": {
    "name": "ipython",
    "version": 3
   },
   "file_extension": ".py",
   "mimetype": "text/x-python",
   "name": "python",
   "nbconvert_exporter": "python",
   "pygments_lexer": "ipython3",
   "version": "3.9.0-final"
  },
  "orig_nbformat": 2,
  "kernelspec": {
   "name": "python3",
   "display_name": "Python 3"
  }
 },
 "nbformat": 4,
 "nbformat_minor": 2,
 "cells": [
  {
   "cell_type": "code",
   "execution_count": 54,
   "metadata": {},
   "outputs": [
    {
     "output_type": "stream",
     "name": "stdout",
     "text": [
      "[0.14751816 0.29538468 0.25658495 0.30051221]\n"
     ]
    }
   ],
   "source": [
    "import pandas\n",
    "\n",
    "mapping = {'male': 0, 'female': 1}\n",
    "\n",
    "data = pandas.read_csv('titanic.csv')\n",
    "df = pandas.DataFrame(data, columns=[\"Pclass\", \"Fare\", \"Age\", \"Sex\", \"Survived\"])\n",
    "df = df.replace({\"Sex\": mapping})\n",
    "df = df[df.Age.notnull()]\n",
    "# print(df[[\"Pclass\", \"Fare\", \"Age\", \"Sex\"]])\n",
    "# print(df[\"Survived\"])\n",
    "\n",
    "clf = DecisionTreeClassifier(random_state=241)\n",
    "clf.fit(df[[\"Pclass\", \"Fare\", \"Age\", \"Sex\"]], df[\"Survived\"])\n",
    "\n",
    "importances = clf.feature_importances_\n",
    "print(importances)"
   ]
  },
  {
   "cell_type": "code",
   "execution_count": null,
   "metadata": {},
   "outputs": [],
   "source": []
  }
 ]
}