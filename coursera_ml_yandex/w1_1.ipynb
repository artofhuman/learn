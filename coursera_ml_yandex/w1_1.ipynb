{
 "metadata": {
  "language_info": {
   "codemirror_mode": {
    "name": "ipython",
    "version": 3
   },
   "file_extension": ".py",
   "mimetype": "text/x-python",
   "name": "python",
   "nbconvert_exporter": "python",
   "pygments_lexer": "ipython3",
   "version": "3.9.0-final"
  },
  "orig_nbformat": 2,
  "kernelspec": {
   "name": "python3",
   "display_name": "Python 3"
  }
 },
 "nbformat": 4,
 "nbformat_minor": 2,
 "cells": [
  {
   "source": [
    "import numpy as np\n",
    "\n",
    "X = np.random.normal(loc=1, scale=10, size=(1000, 50))\n",
    "print(X)"
   ],
   "cell_type": "code",
   "metadata": {},
   "execution_count": 1,
   "outputs": [
    {
     "output_type": "stream",
     "name": "stdout",
     "text": [
      "[[-11.07181707 -12.80902171   0.27155179 ...   3.48617804  27.9137652\n   -2.2560932 ]\n [ 10.70520317   1.26092272  12.56503707 ... -10.16461888  11.23373796\n   -0.32602484]\n [  0.29530106   6.51517966 -19.74369865 ...  10.49954212  13.94790108\n   -5.41802999]\n ...\n [  2.39770924  19.66639071  -3.84190538 ... -10.33857808  -2.47277062\n   -8.52932719]\n [  9.2746734    5.69942628   5.80684423 ...  -9.9185383   11.89953749\n   -8.68747759]\n [  8.49947318  -3.86736092  22.02109877 ...  -3.2759812   -5.60067305\n   21.83615081]]\n"
     ]
    }
   ]
  },
  {
   "cell_type": "code",
   "execution_count": 6,
   "metadata": {},
   "outputs": [
    {
     "output_type": "stream",
     "name": "stdout",
     "text": [
      "[[-1.1842311  -1.37410224 -0.0794666  ...  0.23030974  2.70149389\n  -0.33828758]\n [ 0.89097853  0.04024994  1.16374559 ... -1.09193502  1.04898227\n  -0.15325057]\n [-0.10101803  0.56842329 -2.10356331 ...  0.90963887  1.31787788\n  -0.64142468]\n ...\n [ 0.09932792  1.89042169 -0.49545116 ... -1.10878508 -0.30893905\n  -0.93970692]\n [ 0.75465827  0.48642136  0.48030493 ... -1.06809914  1.11494388\n  -0.95486891]\n [ 0.68078668 -0.47526021  2.12001558 ... -0.42468716 -0.61882434\n   1.97145275]]\n"
     ]
    }
   ],
   "source": [
    "m = np.mean(X, axis=0)\n",
    "std = np.std(X, axis=0)\n",
    "\n",
    "x_norm = ((X - m) / std)\n",
    "\n",
    "print(x_norm)"
   ]
  },
  {
   "cell_type": "code",
   "execution_count": 14,
   "metadata": {},
   "outputs": [
    {
     "output_type": "stream",
     "name": "stdout",
     "text": [
      "(array([1, 4, 5]),)\n"
     ]
    }
   ],
   "source": [
    "Z = np.array([[4, 5, 0], \n",
    "             [1, 9, 3],              \n",
    "             [5, 1, 1],\n",
    "             [3, 3, 3], \n",
    "             [9, 9, 9], \n",
    "             [4, 7, 1]])\n",
    "\n",
    "sum = np.sum(Z, axis=1)\n",
    "res = np.nonzero(sum > 10)\n",
    "print(res)\n"
   ]
  },
  {
   "cell_type": "code",
   "execution_count": 19,
   "metadata": {},
   "outputs": [
    {
     "output_type": "stream",
     "name": "stdout",
     "text": [
      "[[1. 0. 0.]\n [0. 1. 0.]\n [0. 0. 1.]\n [1. 0. 0.]\n [0. 1. 0.]\n [0. 0. 1.]]\n"
     ]
    }
   ],
   "source": [
    "X = np.eye(3)\n",
    "Y = np.eye(3)\n",
    "res = np.vstack((X, Y))\n",
    "print(res)"
   ]
  },
  {
   "cell_type": "code",
   "execution_count": null,
   "metadata": {},
   "outputs": [],
   "source": []
  }
 ]
}